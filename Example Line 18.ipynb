{
 "cells": [
  {
   "cell_type": "code",
   "execution_count": 24,
   "id": "cad354e7",
   "metadata": {},
   "outputs": [],
   "source": [
    "import geopandas as gpd\n",
    "import pandas as pd\n",
    "import numpy as np\n",
    "import shapely.geometry as geo\n",
    "import matplotlib.pyplot as plt\n",
    "import zipfile, os\n",
    "%matplotlib inline"
   ]
  },
  {
   "cell_type": "code",
   "execution_count": null,
   "id": "7c378447",
   "metadata": {},
   "outputs": [],
   "source": [
    "# Data needed:\n",
    "# - data/GPE_GARE_LOCALISATION : unpacked stop data from Societé de Grand Paris\n",
    "# - data/IDFM-gtfs.zip : GTFS schedule from Ile-de-France mobilités"
   ]
  },
  {
   "cell_type": "markdown",
   "id": "8d8e8e07",
   "metadata": {},
   "source": [
    "## Some settings"
   ]
  },
  {
   "cell_type": "code",
   "execution_count": 25,
   "id": "7f7d31df",
   "metadata": {},
   "outputs": [],
   "source": [
    "frequency = 20 * 60 # Every 20 minutes\n",
    "speed = 40 # km/h"
   ]
  },
  {
   "cell_type": "markdown",
   "id": "bacddcc2",
   "metadata": {},
   "source": [
    "## Load stop data"
   ]
  },
  {
   "cell_type": "code",
   "execution_count": 26,
   "id": "ed6c96a4",
   "metadata": {},
   "outputs": [],
   "source": [
    "# Needs to be unpacked first\n",
    "df_data = gpd.read_file(\"data/GPE_GARE_LOCALISATION/GPE_GARE_LOCALISATION.shp\")\n",
    "df_data = df_data[df_data[\"LIGNE\"].str.contains(\"L18\")].copy()"
   ]
  },
  {
   "cell_type": "markdown",
   "id": "167ca575",
   "metadata": {},
   "source": [
    "## Generate stops"
   ]
  },
  {
   "cell_type": "code",
   "execution_count": 27,
   "id": "a7e92505",
   "metadata": {},
   "outputs": [],
   "source": [
    "df_stops = df_data.copy().to_crs(\"EPSG:4326\")\n",
    "df_stops[\"stop_id\"] = np.arange(len(df_stops))\n",
    "df_stops[\"stop_id\"] = \"gpe:18:\" + df_stops[\"stop_id\"].astype(str)\n",
    "df_stops[\"stop_lon\"] = df_stops[\"geometry\"].x\n",
    "df_stops[\"stop_lat\"] = df_stops[\"geometry\"].y\n",
    "df_stops[\"location_type\"] = 0\n",
    "df_stops[\"stop_name\"] = df_stops[\"LIBELLE\"]\n",
    "df_stops = df_stops.sort_values(by = \"CODE\")\n",
    "\n",
    "df_stops = df_stops[[\n",
    "    \"stop_id\", \"stop_name\", \"location_type\", \"stop_lon\", \"stop_lat\", \"geometry\"]] # Keeping geometry for stop times "
   ]
  },
  {
   "cell_type": "markdown",
   "id": "d59baa60",
   "metadata": {},
   "source": [
    "## Generate agency"
   ]
  },
  {
   "cell_type": "code",
   "execution_count": 28,
   "id": "557346c9",
   "metadata": {},
   "outputs": [],
   "source": [
    "df_agency = pd.DataFrame({\n",
    "    \"agency_id\": [\"gpe\"], # Let's create a new agency to have a clean setup\n",
    "    \"agency_name\": [\"GPE\"],\n",
    "    \"agency_url\": [\"unknown\"],\n",
    "    \"agency_timezone\": [\"Europe/Paris\"]\n",
    "})"
   ]
  },
  {
   "cell_type": "markdown",
   "id": "885c6731",
   "metadata": {},
   "source": [
    "## Generate routes"
   ]
  },
  {
   "cell_type": "code",
   "execution_count": 29,
   "id": "3041cc00",
   "metadata": {},
   "outputs": [],
   "source": [
    "df_routes = pd.DataFrame({\n",
    "    \"route_id\": [\"gpe:18\"], # We only have one route here, which is line 18\n",
    "    \"agency_id\": [\"gpe\"],\n",
    "    \"route_type\": 1, # Subway\n",
    "    \"route_long_name\": \"GPE 18\" # Requires by OpenTripPlanner\n",
    "})"
   ]
  },
  {
   "cell_type": "code",
   "execution_count": 30,
   "id": "050a9e33",
   "metadata": {},
   "outputs": [
    {
     "data": {
      "text/html": [
       "<div>\n",
       "<style scoped>\n",
       "    .dataframe tbody tr th:only-of-type {\n",
       "        vertical-align: middle;\n",
       "    }\n",
       "\n",
       "    .dataframe tbody tr th {\n",
       "        vertical-align: top;\n",
       "    }\n",
       "\n",
       "    .dataframe thead th {\n",
       "        text-align: right;\n",
       "    }\n",
       "</style>\n",
       "<table border=\"1\" class=\"dataframe\">\n",
       "  <thead>\n",
       "    <tr style=\"text-align: right;\">\n",
       "      <th></th>\n",
       "      <th>route_id</th>\n",
       "      <th>agency_id</th>\n",
       "      <th>route_type</th>\n",
       "      <th>route_long_name</th>\n",
       "    </tr>\n",
       "  </thead>\n",
       "  <tbody>\n",
       "    <tr>\n",
       "      <th>0</th>\n",
       "      <td>gpe:18</td>\n",
       "      <td>gpe</td>\n",
       "      <td>1</td>\n",
       "      <td>GPE 18</td>\n",
       "    </tr>\n",
       "  </tbody>\n",
       "</table>\n",
       "</div>"
      ],
      "text/plain": [
       "  route_id agency_id  route_type route_long_name\n",
       "0   gpe:18       gpe           1          GPE 18"
      ]
     },
     "execution_count": 30,
     "metadata": {},
     "output_type": "execute_result"
    }
   ],
   "source": [
    "df_routes"
   ]
  },
  {
   "cell_type": "markdown",
   "id": "badae5e6",
   "metadata": {},
   "source": [
    "## Generate Calendar"
   ]
  },
  {
   "cell_type": "code",
   "execution_count": 31,
   "id": "4f76d333",
   "metadata": {},
   "outputs": [],
   "source": [
    "df_calendar = pd.DataFrame({\n",
    "    # We want this service to run on all days, we don't create specific configurations\n",
    "    # And generating a calendar entry is easier than resusing one from the existing GTFS data\n",
    "    \"service_id\": [\"gpe\"],\n",
    "    \"monday\": [1],\n",
    "    \"tuesday\": [1],\n",
    "    \"wednesday\": [1],\n",
    "    \"thursday\": [1],\n",
    "    \"friday\": [1],\n",
    "    \"saturday\": [1],\n",
    "    \"sunday\": [1],\n",
    "    \"start_date\": [\"20200101\"],\n",
    "    \"end_date\": [\"20300101\"]\n",
    "})"
   ]
  },
  {
   "cell_type": "markdown",
   "id": "620e4a4b",
   "metadata": {},
   "source": [
    "## Generate Trips"
   ]
  },
  {
   "cell_type": "code",
   "execution_count": 32,
   "id": "01ccb0d8",
   "metadata": {},
   "outputs": [],
   "source": [
    "df_trips = []\n",
    "\n",
    "for direction in (\"fw\", \"bw\"): # Forward and backward\n",
    "    for departure in range(0, int(24 * 3600 / frequency)):\n",
    "        df_trips.append({\n",
    "            \"trip_id\": \"gpe:18:{}:{}\".format(direction, departure),\n",
    "            \"route_id\": \"gpe:18\",\n",
    "            \"service_id\": \"gpe\", # From the calendar\n",
    "            \"direction\": direction, # Used to generate stop times later\n",
    "            \"departure_time\": frequency * departure # Used to generate stop times later\n",
    "        })\n",
    "\n",
    "df_trips = pd.DataFrame.from_records(df_trips)"
   ]
  },
  {
   "cell_type": "code",
   "execution_count": 33,
   "id": "722c6ad8",
   "metadata": {},
   "outputs": [
    {
     "data": {
      "text/html": [
       "<div>\n",
       "<style scoped>\n",
       "    .dataframe tbody tr th:only-of-type {\n",
       "        vertical-align: middle;\n",
       "    }\n",
       "\n",
       "    .dataframe tbody tr th {\n",
       "        vertical-align: top;\n",
       "    }\n",
       "\n",
       "    .dataframe thead th {\n",
       "        text-align: right;\n",
       "    }\n",
       "</style>\n",
       "<table border=\"1\" class=\"dataframe\">\n",
       "  <thead>\n",
       "    <tr style=\"text-align: right;\">\n",
       "      <th></th>\n",
       "      <th>trip_id</th>\n",
       "      <th>route_id</th>\n",
       "      <th>service_id</th>\n",
       "      <th>direction</th>\n",
       "      <th>departure_time</th>\n",
       "    </tr>\n",
       "  </thead>\n",
       "  <tbody>\n",
       "    <tr>\n",
       "      <th>0</th>\n",
       "      <td>gpe:18:fw:0</td>\n",
       "      <td>gpe:18</td>\n",
       "      <td>gpe</td>\n",
       "      <td>fw</td>\n",
       "      <td>0</td>\n",
       "    </tr>\n",
       "    <tr>\n",
       "      <th>1</th>\n",
       "      <td>gpe:18:fw:1</td>\n",
       "      <td>gpe:18</td>\n",
       "      <td>gpe</td>\n",
       "      <td>fw</td>\n",
       "      <td>1200</td>\n",
       "    </tr>\n",
       "    <tr>\n",
       "      <th>2</th>\n",
       "      <td>gpe:18:fw:2</td>\n",
       "      <td>gpe:18</td>\n",
       "      <td>gpe</td>\n",
       "      <td>fw</td>\n",
       "      <td>2400</td>\n",
       "    </tr>\n",
       "    <tr>\n",
       "      <th>3</th>\n",
       "      <td>gpe:18:fw:3</td>\n",
       "      <td>gpe:18</td>\n",
       "      <td>gpe</td>\n",
       "      <td>fw</td>\n",
       "      <td>3600</td>\n",
       "    </tr>\n",
       "    <tr>\n",
       "      <th>4</th>\n",
       "      <td>gpe:18:fw:4</td>\n",
       "      <td>gpe:18</td>\n",
       "      <td>gpe</td>\n",
       "      <td>fw</td>\n",
       "      <td>4800</td>\n",
       "    </tr>\n",
       "    <tr>\n",
       "      <th>...</th>\n",
       "      <td>...</td>\n",
       "      <td>...</td>\n",
       "      <td>...</td>\n",
       "      <td>...</td>\n",
       "      <td>...</td>\n",
       "    </tr>\n",
       "    <tr>\n",
       "      <th>139</th>\n",
       "      <td>gpe:18:bw:67</td>\n",
       "      <td>gpe:18</td>\n",
       "      <td>gpe</td>\n",
       "      <td>bw</td>\n",
       "      <td>80400</td>\n",
       "    </tr>\n",
       "    <tr>\n",
       "      <th>140</th>\n",
       "      <td>gpe:18:bw:68</td>\n",
       "      <td>gpe:18</td>\n",
       "      <td>gpe</td>\n",
       "      <td>bw</td>\n",
       "      <td>81600</td>\n",
       "    </tr>\n",
       "    <tr>\n",
       "      <th>141</th>\n",
       "      <td>gpe:18:bw:69</td>\n",
       "      <td>gpe:18</td>\n",
       "      <td>gpe</td>\n",
       "      <td>bw</td>\n",
       "      <td>82800</td>\n",
       "    </tr>\n",
       "    <tr>\n",
       "      <th>142</th>\n",
       "      <td>gpe:18:bw:70</td>\n",
       "      <td>gpe:18</td>\n",
       "      <td>gpe</td>\n",
       "      <td>bw</td>\n",
       "      <td>84000</td>\n",
       "    </tr>\n",
       "    <tr>\n",
       "      <th>143</th>\n",
       "      <td>gpe:18:bw:71</td>\n",
       "      <td>gpe:18</td>\n",
       "      <td>gpe</td>\n",
       "      <td>bw</td>\n",
       "      <td>85200</td>\n",
       "    </tr>\n",
       "  </tbody>\n",
       "</table>\n",
       "<p>144 rows × 5 columns</p>\n",
       "</div>"
      ],
      "text/plain": [
       "          trip_id route_id service_id direction  departure_time\n",
       "0     gpe:18:fw:0   gpe:18        gpe        fw               0\n",
       "1     gpe:18:fw:1   gpe:18        gpe        fw            1200\n",
       "2     gpe:18:fw:2   gpe:18        gpe        fw            2400\n",
       "3     gpe:18:fw:3   gpe:18        gpe        fw            3600\n",
       "4     gpe:18:fw:4   gpe:18        gpe        fw            4800\n",
       "..            ...      ...        ...       ...             ...\n",
       "139  gpe:18:bw:67   gpe:18        gpe        bw           80400\n",
       "140  gpe:18:bw:68   gpe:18        gpe        bw           81600\n",
       "141  gpe:18:bw:69   gpe:18        gpe        bw           82800\n",
       "142  gpe:18:bw:70   gpe:18        gpe        bw           84000\n",
       "143  gpe:18:bw:71   gpe:18        gpe        bw           85200\n",
       "\n",
       "[144 rows x 5 columns]"
      ]
     },
     "execution_count": 33,
     "metadata": {},
     "output_type": "execute_result"
    }
   ],
   "source": [
    "df_trips"
   ]
  },
  {
   "cell_type": "markdown",
   "id": "b8b6e8b2",
   "metadata": {},
   "source": [
    "## Generate stop times"
   ]
  },
  {
   "cell_type": "code",
   "execution_count": 34,
   "id": "cba11476",
   "metadata": {},
   "outputs": [],
   "source": [
    "df_locations = df_stops[[\"geometry\"]].to_crs(\"EPSG:2154\")\n",
    "locations = np.array([df_locations[\"geometry\"].x, df_locations[\"geometry\"].y]).T\n",
    "\n",
    "distances = np.array([\n",
    "    np.sqrt(np.sum((locations[k] - locations[k-1])**2))\n",
    "    for k in range(1, len(locations))\n",
    "])\n",
    "\n",
    "travel_times = (distances * 1e-3 / speed) * 3600 # in seconds"
   ]
  },
  {
   "cell_type": "code",
   "execution_count": 35,
   "id": "576fabbe",
   "metadata": {},
   "outputs": [],
   "source": [
    "df_stop_times = []\n",
    "\n",
    "for index, trip in df_trips.iterrows():\n",
    "    df_times = df_stops[[\"stop_id\"]].copy()\n",
    "    \n",
    "    if trip[\"direction\"] == \"bw\": # Consider opposite order in backwards trajectory\n",
    "        df_times = df_times.iloc[::-1]\n",
    "        \n",
    "    times = np.array([0.0] + list(travel_times))  \n",
    "    \n",
    "    df_times[\"departure_time\"] = trip[\"departure_time\"] + np.cumsum(times)\n",
    "    df_times[\"arrival_time\"] = trip[\"departure_time\"] + np.cumsum(times)\n",
    "    df_times[\"trip_id\"] = trip[\"trip_id\"]\n",
    "    df_times[\"stop_sequence\"] = np.arange(len(df_times))\n",
    "    \n",
    "    df_stop_times.append(df_times)\n",
    "    \n",
    "df_stop_times = pd.concat(df_stop_times)"
   ]
  },
  {
   "cell_type": "code",
   "execution_count": 36,
   "id": "8b065465",
   "metadata": {},
   "outputs": [],
   "source": [
    "def format_time(time): # Transform seconds in HH:MM:SS\n",
    "    hours = int(time // 3600)\n",
    "    minutes = int((time - hours * 3600) // 60)\n",
    "    seconds = int(time - hours * 3600 - minutes * 60)\n",
    "    return \"{:02}:{:02}:{:02}\".format(hours, minutes, seconds)\n",
    "\n",
    "df_stop_times[\"departure_time\"] = df_stop_times[\"departure_time\"].apply(format_time)\n",
    "df_stop_times[\"arrival_time\"] = df_stop_times[\"arrival_time\"].apply(format_time)"
   ]
  },
  {
   "cell_type": "code",
   "execution_count": 37,
   "id": "3fd1c007",
   "metadata": {},
   "outputs": [
    {
     "data": {
      "text/html": [
       "<div>\n",
       "<style scoped>\n",
       "    .dataframe tbody tr th:only-of-type {\n",
       "        vertical-align: middle;\n",
       "    }\n",
       "\n",
       "    .dataframe tbody tr th {\n",
       "        vertical-align: top;\n",
       "    }\n",
       "\n",
       "    .dataframe thead th {\n",
       "        text-align: right;\n",
       "    }\n",
       "</style>\n",
       "<table border=\"1\" class=\"dataframe\">\n",
       "  <thead>\n",
       "    <tr style=\"text-align: right;\">\n",
       "      <th></th>\n",
       "      <th>stop_id</th>\n",
       "      <th>departure_time</th>\n",
       "      <th>arrival_time</th>\n",
       "      <th>trip_id</th>\n",
       "      <th>stop_sequence</th>\n",
       "    </tr>\n",
       "  </thead>\n",
       "  <tbody>\n",
       "    <tr>\n",
       "      <th>21</th>\n",
       "      <td>gpe:18:4</td>\n",
       "      <td>00:00:00</td>\n",
       "      <td>00:00:00</td>\n",
       "      <td>gpe:18:fw:0</td>\n",
       "      <td>0</td>\n",
       "    </tr>\n",
       "    <tr>\n",
       "      <th>31</th>\n",
       "      <td>gpe:18:8</td>\n",
       "      <td>00:05:56</td>\n",
       "      <td>00:05:56</td>\n",
       "      <td>gpe:18:fw:0</td>\n",
       "      <td>1</td>\n",
       "    </tr>\n",
       "    <tr>\n",
       "      <th>30</th>\n",
       "      <td>gpe:18:7</td>\n",
       "      <td>00:08:09</td>\n",
       "      <td>00:08:09</td>\n",
       "      <td>gpe:18:fw:0</td>\n",
       "      <td>2</td>\n",
       "    </tr>\n",
       "    <tr>\n",
       "      <th>15</th>\n",
       "      <td>gpe:18:2</td>\n",
       "      <td>00:11:52</td>\n",
       "      <td>00:11:52</td>\n",
       "      <td>gpe:18:fw:0</td>\n",
       "      <td>3</td>\n",
       "    </tr>\n",
       "    <tr>\n",
       "      <th>9</th>\n",
       "      <td>gpe:18:1</td>\n",
       "      <td>00:18:25</td>\n",
       "      <td>00:18:25</td>\n",
       "      <td>gpe:18:fw:0</td>\n",
       "      <td>4</td>\n",
       "    </tr>\n",
       "    <tr>\n",
       "      <th>...</th>\n",
       "      <td>...</td>\n",
       "      <td>...</td>\n",
       "      <td>...</td>\n",
       "      <td>...</td>\n",
       "      <td>...</td>\n",
       "    </tr>\n",
       "    <tr>\n",
       "      <th>9</th>\n",
       "      <td>gpe:18:1</td>\n",
       "      <td>24:01:31</td>\n",
       "      <td>24:01:31</td>\n",
       "      <td>gpe:18:bw:71</td>\n",
       "      <td>5</td>\n",
       "    </tr>\n",
       "    <tr>\n",
       "      <th>15</th>\n",
       "      <td>gpe:18:2</td>\n",
       "      <td>24:04:46</td>\n",
       "      <td>24:04:46</td>\n",
       "      <td>gpe:18:bw:71</td>\n",
       "      <td>6</td>\n",
       "    </tr>\n",
       "    <tr>\n",
       "      <th>30</th>\n",
       "      <td>gpe:18:7</td>\n",
       "      <td>24:15:51</td>\n",
       "      <td>24:15:51</td>\n",
       "      <td>gpe:18:bw:71</td>\n",
       "      <td>7</td>\n",
       "    </tr>\n",
       "    <tr>\n",
       "      <th>31</th>\n",
       "      <td>gpe:18:8</td>\n",
       "      <td>24:21:36</td>\n",
       "      <td>24:21:36</td>\n",
       "      <td>gpe:18:bw:71</td>\n",
       "      <td>8</td>\n",
       "    </tr>\n",
       "    <tr>\n",
       "      <th>21</th>\n",
       "      <td>gpe:18:4</td>\n",
       "      <td>24:25:24</td>\n",
       "      <td>24:25:24</td>\n",
       "      <td>gpe:18:bw:71</td>\n",
       "      <td>9</td>\n",
       "    </tr>\n",
       "  </tbody>\n",
       "</table>\n",
       "<p>1440 rows × 5 columns</p>\n",
       "</div>"
      ],
      "text/plain": [
       "     stop_id departure_time arrival_time       trip_id  stop_sequence\n",
       "21  gpe:18:4       00:00:00     00:00:00   gpe:18:fw:0              0\n",
       "31  gpe:18:8       00:05:56     00:05:56   gpe:18:fw:0              1\n",
       "30  gpe:18:7       00:08:09     00:08:09   gpe:18:fw:0              2\n",
       "15  gpe:18:2       00:11:52     00:11:52   gpe:18:fw:0              3\n",
       "9   gpe:18:1       00:18:25     00:18:25   gpe:18:fw:0              4\n",
       "..       ...            ...          ...           ...            ...\n",
       "9   gpe:18:1       24:01:31     24:01:31  gpe:18:bw:71              5\n",
       "15  gpe:18:2       24:04:46     24:04:46  gpe:18:bw:71              6\n",
       "30  gpe:18:7       24:15:51     24:15:51  gpe:18:bw:71              7\n",
       "31  gpe:18:8       24:21:36     24:21:36  gpe:18:bw:71              8\n",
       "21  gpe:18:4       24:25:24     24:25:24  gpe:18:bw:71              9\n",
       "\n",
       "[1440 rows x 5 columns]"
      ]
     },
     "execution_count": 37,
     "metadata": {},
     "output_type": "execute_result"
    }
   ],
   "source": [
    "df_stop_times"
   ]
  },
  {
   "cell_type": "markdown",
   "id": "ad0916ca",
   "metadata": {},
   "source": [
    "## Cleanup"
   ]
  },
  {
   "cell_type": "code",
   "execution_count": 38,
   "id": "1019e9ff",
   "metadata": {},
   "outputs": [],
   "source": [
    "df_stops = df_stops[[\"stop_id\", \"stop_name\", \"location_type\", \"stop_lon\", \"stop_lat\"]]"
   ]
  },
  {
   "cell_type": "code",
   "execution_count": 39,
   "id": "305dd48d",
   "metadata": {},
   "outputs": [],
   "source": [
    "df_trips = df_trips[[\"trip_id\", \"route_id\", \"service_id\"]]"
   ]
  },
  {
   "cell_type": "code",
   "execution_count": 40,
   "id": "9cc41b7a",
   "metadata": {},
   "outputs": [],
   "source": [
    "df_stop_times = df_stop_times[[\"trip_id\", \"arrival_time\", \"departure_time\", \"stop_id\", \"stop_sequence\"]]"
   ]
  },
  {
   "cell_type": "markdown",
   "id": "51a7fe8e",
   "metadata": {},
   "source": [
    "## Drawing the line"
   ]
  },
  {
   "cell_type": "code",
   "execution_count": 41,
   "id": "f267958a",
   "metadata": {},
   "outputs": [],
   "source": [
    "df_points = df_stops.copy()\n",
    "df_points[\"geometry\"] = [geo.Point(x,y) for x, y in zip(df_points[\"stop_lon\"], df_points[\"stop_lat\"])]\n",
    "df_points = gpd.GeoDataFrame(df_points[[\"stop_id\", \"stop_name\", \"geometry\"]], crs = \"EPSG:4326\")"
   ]
  },
  {
   "cell_type": "code",
   "execution_count": 42,
   "id": "1e5bcad5",
   "metadata": {},
   "outputs": [],
   "source": [
    "df_line = gpd.GeoDataFrame(pd.DataFrame({\n",
    "    \"id\": [\"gpe:18\"],\n",
    "    \"geometry\": geo.LineString(df_points[\"geometry\"])\n",
    "}), crs = \"EPSG:4326\")"
   ]
  },
  {
   "cell_type": "code",
   "execution_count": 43,
   "id": "b8728538",
   "metadata": {},
   "outputs": [
    {
     "data": {
      "text/plain": [
       "<AxesSubplot: >"
      ]
     },
     "execution_count": 43,
     "metadata": {},
     "output_type": "execute_result"
    },
    {
     "data": {
      "image/png": "[encoded data removed]",
      "text/plain": [
       "<Figure size 480x480 with 1 Axes>"
      ]
     },
     "metadata": {},
     "output_type": "display_data"
    }
   ],
   "source": [
    "plt.figure(dpi = 120, figsize = (4, 4))\n",
    "df_points.plot(ax = plt.gca())\n",
    "df_line.plot(ax = plt.gca())"
   ]
  },
  {
   "cell_type": "markdown",
   "id": "b58f5033",
   "metadata": {},
   "source": [
    "## Drawing in QGIS"
   ]
  },
  {
   "cell_type": "code",
   "execution_count": 44,
   "id": "a367b280",
   "metadata": {},
   "outputs": [],
   "source": [
    "df_points.to_file(\"points.gpkg\")\n",
    "df_line.to_file(\"line.gpkg\")"
   ]
  },
  {
   "cell_type": "markdown",
   "id": "77295c34",
   "metadata": {},
   "source": [
    "![QGIS](images/qgis.png)"
   ]
  },
  {
   "cell_type": "markdown",
   "id": "39cb6311",
   "metadata": {},
   "source": [
    "## Generate a standalone GTFS for testing"
   ]
  },
  {
   "cell_type": "code",
   "execution_count": 45,
   "id": "ef0f73ce",
   "metadata": {},
   "outputs": [],
   "source": [
    "with zipfile.ZipFile(\"standalone-gtfs.zip\", \"w\") as archive:\n",
    "    # Agency\n",
    "    df_agency.to_csv(archive.open(\"agency.txt\", \"w\"), index = False)\n",
    "\n",
    "    # Calendar\n",
    "    df_calendar.to_csv(archive.open(\"calendar.txt\", \"w\"), index = False)\n",
    "\n",
    "    # Routes\n",
    "    df_routes.to_csv(archive.open(\"routes.txt\", \"w\"), index = False)\n",
    "\n",
    "    # Stops\n",
    "    df_stops.to_csv(archive.open(\"stops.txt\", \"w\"), index = False)\n",
    "\n",
    "    # Trips\n",
    "    df_trips.to_csv(archive.open(\"trips.txt\", \"w\"), index = False)\n",
    "\n",
    "    # Stop times\n",
    "    df_stop_times.to_csv(archive.open(\"stop_times.txt\", \"w\"), index = False)"
   ]
  },
  {
   "cell_type": "markdown",
   "id": "b9742f55",
   "metadata": {},
   "source": [
    "This can be tested using OpenTripPlanner:"
   ]
  },
  {
   "cell_type": "markdown",
   "id": "9fda59fc",
   "metadata": {},
   "source": [
    "![OTP](images/otp_testing.png)"
   ]
  },
  {
   "cell_type": "markdown",
   "id": "1ab1f93c",
   "metadata": {},
   "source": [
    "## Generate new GTFS based on IDFM"
   ]
  },
  {
   "cell_type": "code",
   "execution_count": 46,
   "id": "11dc6f4d",
   "metadata": {},
   "outputs": [
    {
     "name": "stderr",
     "output_type": "stream",
     "text": [
      "/tmp/ipykernel_5179/2247487373.py:25: DtypeWarning: Columns (4) have mixed types. Specify dtype option on import or set low_memory=False.\n",
      "  df_origin = pd.read_csv(origin.open(\"trips.txt\"))\n"
     ]
    }
   ],
   "source": [
    "# We create it by copying (and modifying) the files of the original GTFS into a new one\n",
    "with zipfile.ZipFile(\"data/IDFM-gtfs.zip\") as origin:\n",
    "    with zipfile.ZipFile(\"updated-gtfs.zip\", \"w\") as destination:\n",
    "        # Agency\n",
    "        df_origin = pd.read_csv(origin.open(\"agency.txt\"))\n",
    "        df = pd.concat([df_origin, df_agency])\n",
    "        df.to_csv(destination.open(\"agency.txt\", \"w\"), index = False)\n",
    "\n",
    "        # Calendar\n",
    "        df_origin = pd.read_csv(origin.open(\"calendar.txt\"))\n",
    "        df = pd.concat([df_origin, df_calendar])\n",
    "        df.to_csv(destination.open(\"calendar.txt\", \"w\"), index = False)\n",
    "\n",
    "        # Routes\n",
    "        df_origin = pd.read_csv(origin.open(\"routes.txt\"))\n",
    "        df = pd.concat([df_origin, df_routes])\n",
    "        df.to_csv(destination.open(\"routes.txt\", \"w\"), index = False)\n",
    "\n",
    "        # Stops\n",
    "        df_origin = pd.read_csv(origin.open(\"stops.txt\"))\n",
    "        df = pd.concat([df_origin, df_stops])\n",
    "        df.to_csv(destination.open(\"stops.txt\", \"w\"), index = False)\n",
    "\n",
    "        # Trips\n",
    "        df_origin = pd.read_csv(origin.open(\"trips.txt\"))\n",
    "        df = pd.concat([df_origin, df_trips])\n",
    "        df.to_csv(destination.open(\"trips.txt\", \"w\"), index = False)\n",
    "\n",
    "        # Stop times\n",
    "        df_origin = pd.read_csv(origin.open(\"stop_times.txt\"))\n",
    "        df = pd.concat([df_origin, df_stop_times])\n",
    "        df.to_csv(destination.open(\"stop_times.txt\", \"w\"), index = False)\n",
    "\n",
    "        # Copy remaining files\n",
    "        for name in (\"pathways.txt\", \"calendar_dates.txt\", \"stop_extensions.txt\", \"transfers.txt\"):\n",
    "            df_origin = pd.read_csv(origin.open(name))\n",
    "            df_origin.to_csv(destination.open(name, \"w\"), index = False)"
   ]
  },
  {
   "cell_type": "markdown",
   "id": "64c8b731",
   "metadata": {},
   "source": [
    "Test with OpenTripPlanner and and itineraries that makes first use of RER B and then switches to GPE 18:"
   ]
  },
  {
   "cell_type": "markdown",
   "id": "2a50b63a",
   "metadata": {},
   "source": [
    "![OTP](images/example_idfm.png)"
   ]
  }
 ],
 "metadata": {
  "kernelspec": {
   "display_name": "Python 3 (ipykernel)",
   "language": "python",
   "name": "python3"
  },
  "language_info": {
   "codemirror_mode": {
    "name": "ipython",
    "version": 3
   },
   "file_extension": ".py",
   "mimetype": "text/x-python",
   "name": "python",
   "nbconvert_exporter": "python",
   "pygments_lexer": "ipython3",
   "version": "3.10.8"
  }
 },
 "nbformat": 4,
 "nbformat_minor": 5
}
